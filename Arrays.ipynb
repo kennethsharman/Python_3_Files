{
 "cells": [
  {
   "cell_type": "markdown",
   "metadata": {},
   "source": [
    "### <center>Lists & Numpy Arrays</center>"
   ]
  },
  {
   "cell_type": "code",
   "execution_count": 1,
   "metadata": {},
   "outputs": [],
   "source": [
    "import numpy as np\n",
    "\n",
    "# tuples are immutable\n",
    "tuple = (1,2,3)\n",
    "# cannot perform: tuple(0) = 0"
   ]
  },
  {
   "cell_type": "code",
   "execution_count": 2,
   "metadata": {},
   "outputs": [
    {
     "name": "stdout",
     "output_type": "stream",
     "text": [
      "[0, 1, 2, 3, 4, 5, 6, 7, 8, 9]\n",
      "<class 'list'>\n"
     ]
    }
   ],
   "source": [
    "list_1 = list(range(0,10))\n",
    "print(list_1)\n",
    "print(type(list_1))"
   ]
  },
  {
   "cell_type": "code",
   "execution_count": 3,
   "metadata": {},
   "outputs": [
    {
     "name": "stdout",
     "output_type": "stream",
     "text": [
      "[0, 3, 6, 9, 12, 15, 18, 21, 24, 27]\n",
      "<class 'list'>\n"
     ]
    }
   ],
   "source": [
    "list_2 = [3*x for x in range(0,int(30/3))]\n",
    "print(list_2)\n",
    "print(type(list_2))"
   ]
  },
  {
   "cell_type": "code",
   "execution_count": 4,
   "metadata": {},
   "outputs": [],
   "source": [
    "# Python lists are not the same as a NumPy array\n",
    "# Operations on NumPy arrays are more efficient"
   ]
  },
  {
   "cell_type": "code",
   "execution_count": 5,
   "metadata": {},
   "outputs": [
    {
     "name": "stdout",
     "output_type": "stream",
     "text": [
      "[ 0.  1.  2.  3.  4.  5.  6.  7.  8.  9. 10.]\n",
      "<class 'numpy.ndarray'>\n"
     ]
    }
   ],
   "source": [
    "np_array_1 = np.linspace(0, 10, 11)\n",
    "print(np_array_1)\n",
    "print(type(np_array_1))"
   ]
  },
  {
   "cell_type": "code",
   "execution_count": 6,
   "metadata": {},
   "outputs": [
    {
     "name": "stdout",
     "output_type": "stream",
     "text": [
      "[0 1 2 3 4 5 6 7 8 9]\n",
      "<class 'numpy.ndarray'>\n"
     ]
    }
   ],
   "source": [
    "np_array_2 = np.arange(0,10)\n",
    "print(np_array_2)\n",
    "print(type(np_array_2))"
   ]
  },
  {
   "cell_type": "code",
   "execution_count": 7,
   "metadata": {},
   "outputs": [
    {
     "name": "stdout",
     "output_type": "stream",
     "text": [
      "[[ 2  3  5]\n",
      " [ 7 11 13]]\n"
     ]
    }
   ],
   "source": [
    "np_array_3 = np.array( [ [2,3,5], [7,11,13]] )\n",
    "print(np_array_3)"
   ]
  },
  {
   "cell_type": "code",
   "execution_count": 8,
   "metadata": {},
   "outputs": [
    {
     "name": "stdout",
     "output_type": "stream",
     "text": [
      "[[1. 1. 1.]\n",
      " [1. 1. 1.]\n",
      " [1. 1. 1.]]\n",
      "\n",
      " [[0. 0. 0.]\n",
      " [0. 0. 0.]\n",
      " [0. 0. 0.]]\n",
      "\n",
      " [[0. 0. 0.]\n",
      " [0. 0. 0.]\n",
      " [0. 0. 0.]]\n"
     ]
    }
   ],
   "source": [
    "ones = np.ones((3,3))\n",
    "print(ones)\n",
    "\n",
    "zeros = np.zeros((3,3))\n",
    "print('\\n', zeros)\n",
    "\n",
    "np_zeros = np.array([[0]*3, [0]*3, [0]*3], dtype=float)\n",
    "print('\\n', np_zeros)"
   ]
  },
  {
   "cell_type": "code",
   "execution_count": 9,
   "metadata": {},
   "outputs": [
    {
     "name": "stdout",
     "output_type": "stream",
     "text": [
      "[[1 0 0]\n",
      " [0 1 0]\n",
      " [0 0 1]]\n",
      "[[1. 0. 0.]\n",
      " [0. 1. 0.]\n",
      " [0. 0. 1.]]\n"
     ]
    }
   ],
   "source": [
    "multi_dim = np.array([[1,0,0], [0,1,0], [0,0,1]])\n",
    "print(multi_dim)\n",
    "\n",
    "multi_dim1 = np.eye(3)\n",
    "print(multi_dim1)"
   ]
  },
  {
   "cell_type": "code",
   "execution_count": 10,
   "metadata": {},
   "outputs": [
    {
     "name": "stdout",
     "output_type": "stream",
     "text": [
      "[[0. 0. 0. 1. 1. 1.]\n",
      " [0. 0. 0. 1. 1. 1.]]\n",
      "0.0\n"
     ]
    }
   ],
   "source": [
    "a = np.zeros( (2, 3) )\n",
    "b = np.ones( (2, 3) )\n",
    "\n",
    "stack_1 = np.hstack( [a, b] )\n",
    "print(stack_1)\n",
    "print(stack_1[1][2])"
   ]
  },
  {
   "cell_type": "code",
   "execution_count": 11,
   "metadata": {},
   "outputs": [
    {
     "name": "stdout",
     "output_type": "stream",
     "text": [
      "[ 0  1  2  3  4  5  6  7  8  9 10 11 12 13 14 15 16 17 18 19]\n",
      "[ 0  1  2  3  4  5  6  7  8  9 10 11 12 13 14 15 16 17 18 19]\n",
      "[ 0  1  2  3  4  5  6  7  8  9 10 11 12 13 14 15 16 17 18 19]\n",
      "[ 5  6  7  8  9 10 11 12 13 14]\n",
      "[ 5  8 11 14]\n",
      "[ 5  6  7  8  9 10 11 12 13 14 15 16 17 18 19]\n",
      "[0 1 2 3 4]\n",
      "[ 0  5 10 15]\n"
     ]
    }
   ],
   "source": [
    "a = np.arange(20)\n",
    "print(a)\n",
    "print(a[:])\n",
    "print(a[::])\n",
    "print(a[5:15])\n",
    "print(a[5:15:3])\n",
    "print(a[5::])\n",
    "print(a[:5:])\n",
    "print(a[::5])"
   ]
  },
  {
   "cell_type": "code",
   "execution_count": 12,
   "metadata": {},
   "outputs": [
    {
     "name": "stdout",
     "output_type": "stream",
     "text": [
      "[[1 2]\n",
      " [2 1]]\n",
      "[1 2 2 1]\n",
      "[1 2 2 1]\n",
      "[ 1 11  2  1]\n",
      "[ 1  2 22  1]\n",
      "[[ 1  2]\n",
      " [22  1]]\n"
     ]
    }
   ],
   "source": [
    "a = np.array( [ [1, 2], [2, 1] ] )\n",
    "print(a)\n",
    "b = a.flatten()\n",
    "print(b)\n",
    "c = np.ravel(a)\n",
    "print(c)\n",
    "\n",
    "b[1] = 11 # Doesn't change the data in a\n",
    "c[2] = 22 # Does change the data in a\n",
    "print(b)\n",
    "print(c)\n",
    "print(a)"
   ]
  }
 ],
 "metadata": {
  "kernelspec": {
   "display_name": "Python 3",
   "language": "python",
   "name": "python3"
  },
  "language_info": {
   "codemirror_mode": {
    "name": "ipython",
    "version": 3
   },
   "file_extension": ".py",
   "mimetype": "text/x-python",
   "name": "python",
   "nbconvert_exporter": "python",
   "pygments_lexer": "ipython3",
   "version": "3.6.3"
  }
 },
 "nbformat": 4,
 "nbformat_minor": 2
}
