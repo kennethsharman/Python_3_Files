{
 "cells": [
  {
   "cell_type": "markdown",
   "metadata": {},
   "source": [
    "## <center>Symbolic Differentiation [1]</center>\n",
    "\n",
    "https://anaconda.org/anaconda/sympy\n",
    "\n",
    "http://docs.sympy.org/0.7.1/tutorial.html\n",
    "\n",
    "\n",
    "\\begin{equation} \\label{eq1}\n",
    "y = v_0 * t - \\frac{1}{2}g*t^2\n",
    "\\end{equation}\n",
    "\n",
    "\\begin{equation}\n",
    "\\frac{dy}{dt} = v_0 - g*t\n",
    "\\end{equation}"
   ]
  },
  {
   "cell_type": "code",
   "execution_count": 1,
   "metadata": {},
   "outputs": [
    {
     "name": "stdout",
     "output_type": "stream",
     "text": [
      "-g*t + v0\n"
     ]
    }
   ],
   "source": [
    "from sympy import (\n",
    "    symbols, # define symbols for symbolic math\n",
    "    diff, # differentiate expressions\n",
    "    integrate, # integrate expressions\n",
    "    Rational, # define rational numbers\n",
    "    lambdify, # turn symbolic functions into Python functions\n",
    ")\n",
    "t, v0, g = symbols('t v0 g')\n",
    "y = v0*t - Rational(1,2)*g*t**2\n",
    "dydt = diff(y, t)\n",
    "print(dydt)"
   ]
  },
  {
   "cell_type": "markdown",
   "metadata": {},
   "source": [
    "\\begin{equation}\n",
    "y = x^3\n",
    "\\end{equation}\n",
    "\n",
    "\\begin{equation}\n",
    "\\frac{dy}{dt} = 3 x^2 \n",
    "\\end{equation}"
   ]
  },
  {
   "cell_type": "code",
   "execution_count": 2,
   "metadata": {},
   "outputs": [
    {
     "name": "stdout",
     "output_type": "stream",
     "text": [
      "3*x**2\n"
     ]
    }
   ],
   "source": [
    "x = symbols('x')\n",
    "y1 = x**3\n",
    "print(diff(y1, x))"
   ]
  },
  {
   "cell_type": "markdown",
   "metadata": {},
   "source": [
    "\\begin{equation}\n",
    "\\int x^4 dx = \\frac{x^5}{5}\n",
    "\\end{equation}"
   ]
  },
  {
   "cell_type": "code",
   "execution_count": 3,
   "metadata": {},
   "outputs": [
    {
     "name": "stdout",
     "output_type": "stream",
     "text": [
      "x**5/5\n"
     ]
    }
   ],
   "source": [
    "y2 = integrate(x**4, x)\n",
    "print(y2)"
   ]
  },
  {
   "cell_type": "code",
   "execution_count": 4,
   "metadata": {},
   "outputs": [
    {
     "name": "stdout",
     "output_type": "stream",
     "text": [
      "v = -9.81(0) + 5.0 = 5.0\n"
     ]
    }
   ],
   "source": [
    "# Lambdify transforms symbolic expressions to Python functions\n",
    "# From above dydt = -g*t + v0\n",
    "v = lambdify([t, v0, g],\n",
    "            dydt)\n",
    "print( 'v = -9.81(0) + 5.0 =' , v(0.0, 5.0, 9.81))"
   ]
  },
  {
   "cell_type": "markdown",
   "metadata": {},
   "source": [
    "### <center>Equation Solving</center>"
   ]
  },
  {
   "cell_type": "code",
   "execution_count": 5,
   "metadata": {},
   "outputs": [
    {
     "name": "stdout",
     "output_type": "stream",
     "text": [
      "Roots of -g*t**2/2 + t*v0 are [0, 2*v0/g]\n"
     ]
    }
   ],
   "source": [
    "from sympy import solve\n",
    "\n",
    "# Find roots of y = v0*t - 0.5*g*t**2\n",
    "roots = solve(y,t)\n",
    "print('Roots of', y, 'are', roots)"
   ]
  },
  {
   "cell_type": "code",
   "execution_count": 6,
   "metadata": {},
   "outputs": [
    {
     "data": {
      "text/plain": [
       "0"
      ]
     },
     "execution_count": 6,
     "metadata": {},
     "output_type": "execute_result"
    }
   ],
   "source": [
    "# Verify that these are the roots\n",
    "y.subs(t, roots[0])"
   ]
  },
  {
   "cell_type": "code",
   "execution_count": 7,
   "metadata": {},
   "outputs": [
    {
     "data": {
      "text/plain": [
       "0"
      ]
     },
     "execution_count": 7,
     "metadata": {},
     "output_type": "execute_result"
    }
   ],
   "source": [
    "y.subs(t, roots[1])"
   ]
  },
  {
   "cell_type": "markdown",
   "metadata": {},
   "source": [
    "### <center>Taylor Series</center>\n",
    "\n",
    "A Taylor polynomial of order $n$ for an expressions $e$ in a variable $t$ around the point $t_0$ is computed by $e.series(t, t_0, n)$"
   ]
  },
  {
   "cell_type": "code",
   "execution_count": 8,
   "metadata": {},
   "outputs": [
    {
     "name": "stdout",
     "output_type": "stream",
     "text": [
      "1 + t + t**2/2 + O(t**3)\n"
     ]
    }
   ],
   "source": [
    "# Taylor series of e**t\n",
    "\n",
    "from sympy import exp, sin, cos\n",
    "\n",
    "f = exp(t)\n",
    "print(f.series(t, 0, 3))"
   ]
  },
  {
   "cell_type": "code",
   "execution_count": 9,
   "metadata": {},
   "outputs": [
    {
     "name": "stdout",
     "output_type": "stream",
     "text": [
      "1 + t + t**2/2 - t**4/8 - t**5/15 - t**6/240 + t**7/90 + O(t**8)\n"
     ]
    }
   ],
   "source": [
    "# Taylor series of e**sin(t)\n",
    "f = exp(sin(t))\n",
    "print(f.series(t, 0, 8))"
   ]
  },
  {
   "cell_type": "code",
   "execution_count": null,
   "metadata": {},
   "outputs": [],
   "source": []
  },
  {
   "cell_type": "code",
   "execution_count": null,
   "metadata": {},
   "outputs": [],
   "source": []
  },
  {
   "cell_type": "markdown",
   "metadata": {},
   "source": [
    "### References\n",
    "\n",
    "A Primer on Scientific Programming with Python,\n",
    "5e. \n",
    "Hans Petter Langtangen"
   ]
  },
  {
   "cell_type": "code",
   "execution_count": null,
   "metadata": {},
   "outputs": [],
   "source": []
  }
 ],
 "metadata": {
  "kernelspec": {
   "display_name": "Python 3",
   "language": "python",
   "name": "python3"
  },
  "language_info": {
   "codemirror_mode": {
    "name": "ipython",
    "version": 3
   },
   "file_extension": ".py",
   "mimetype": "text/x-python",
   "name": "python",
   "nbconvert_exporter": "python",
   "pygments_lexer": "ipython3",
   "version": "3.6.3"
  }
 },
 "nbformat": 4,
 "nbformat_minor": 2
}
